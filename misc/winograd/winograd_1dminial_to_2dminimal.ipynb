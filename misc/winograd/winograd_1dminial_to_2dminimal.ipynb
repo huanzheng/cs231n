{
 "cells": [
  {
   "cell_type": "markdown",
   "metadata": {},
   "source": [
    "The matrix equation for winograd 1d mininal algorithm is obvious\n",
    "However the derivation from 1d minimal to 2d minimal is not that obvious for newbiee.\n",
    "The original paper only said one setence about the derivation:\n",
    "A minimal 1D algorithm F(m, r) is nested with itself to obtain a minimal 2D algorithm,F(m×m, r×r).\n",
    "\n",
    "This article will do the derivation below, the derivation assumes you have basic understanding of winograd, and you are just stuck with 1d to 2d derivation.\n",
    "It is recommended to read this article(https://www.cnblogs.com/shine-lee/p/10906535.html) before dive into the derivation. Though the derivation from 1d to 2d in that article is wrong."
   ]
  },
  {
   "cell_type": "markdown",
   "metadata": {},
   "source": [
    "Let's write down 1D minimal algorithm first."
   ]
  },
  {
   "cell_type": "markdown",
   "metadata": {},
   "source": [
    "\\begin{equation}\n",
    "A^T = \n",
    "\\begin{bmatrix}\n",
    "1 & 1 & 1 & 0 \\\\\n",
    "0 & 1 &-1 &-1\n",
    "\\end{bmatrix}\n",
    "\\end{equation}"
   ]
  },
  {
   "cell_type": "markdown",
   "metadata": {},
   "source": [
    "\\begin{equation}\n",
    "B^T = \n",
    "\\begin{bmatrix}\n",
    "1 & 0 & -1 & 0 \\\\\n",
    "0 & 1 & 1 & 0 \\\\\n",
    "0 & -1 & 1 & 0 \\\\\n",
    "0 & 1 & 0 & -1 \\\\\n",
    "\\end{bmatrix}\n",
    "\\end{equation}"
   ]
  },
  {
   "cell_type": "markdown",
   "metadata": {},
   "source": [
    "\\begin{equation}\n",
    "G = \n",
    "\\begin{bmatrix}\n",
    "1 & 0 & 0 \\\\\n",
    "\\dfrac{1}{2} & \\dfrac{1}{2} & \\dfrac{1}{2} \\\\\n",
    "\\dfrac{1}{2} & -\\dfrac{1}{2} & \\dfrac{1}{2} \\\\\n",
    "0 & 0 & 1 \\\\\n",
    "\\end{bmatrix}\n",
    "\\end{equation}"
   ]
  },
  {
   "cell_type": "markdown",
   "metadata": {},
   "source": [
    "\\begin{equation}\n",
    "\\vec{w}=\n",
    "\\begin{bmatrix}\n",
    "w_{0}, w_{1}, w_{2}\n",
    "\\end{bmatrix}^T\n",
    "\\end{equation}"
   ]
  },
  {
   "cell_type": "markdown",
   "metadata": {},
   "source": [
    "\\begin{equation}\n",
    "\\vec{d}=\n",
    "\\begin{bmatrix}\n",
    "d_{0}, d_{1}, d_{2}, d_{3}\n",
    "\\end{bmatrix}^T\n",
    "\\end{equation}"
   ]
  },
  {
   "cell_type": "markdown",
   "metadata": {},
   "source": [
    "Matrix equation for 1D minimal algorithm is:\n",
    "\\begin{equation}\n",
    "\\vec{r} = A^T ((G\\vec{w}) \\odot (B^T \\vec{d}))\n",
    "\\end{equation}"
   ]
  },
  {
   "cell_type": "markdown",
   "metadata": {},
   "source": [
    "We will derive the following matrix equation for 2D minimal algorithm step by step\n",
    "\\begin{equation}\n",
    "R = A^T ((GWG^T) \\odot (B^TDB))A\n",
    "\\end{equation}"
   ]
  },
  {
   "cell_type": "markdown",
   "metadata": {},
   "source": [
    "After we transform the convolution into matrix multiplication form, we can observe the sub matrix multiplication pattern;\n",
    "\\begin{equation}\n",
    "\\begin{bmatrix}\n",
    "K_{0}, & K_{1}, & K_{2} \\\\\n",
    "K_{1}, & K_{2}, & K_{3}\n",
    "\\end{bmatrix} \n",
    "\\begin{bmatrix}\n",
    "W_{0} \\\\\n",
    "W_{1} \\\\\n",
    "W_{2}\n",
    "\\end{bmatrix} \n",
    "=\n",
    "\\begin{bmatrix}\n",
    "R_{0} \\\\\n",
    "R_{1}\n",
    "\\end{bmatrix}\n",
    "\\end{equation}"
   ]
  },
  {
   "cell_type": "markdown",
   "metadata": {},
   "source": [
    "This is the 2D form, so we can get the following equations\n",
    "\\begin{equation}\n",
    "\\begin{bmatrix}\n",
    "K_{0}, K_{1}, K_{2} \\\\\n",
    "K_{1}, K_{2}, K_{3}\n",
    "\\end{bmatrix} \n",
    "\\begin{bmatrix}\n",
    "W_{0} \\\\\n",
    "W_{1} \\\\\n",
    "W_{2}\n",
    "\\end{bmatrix} \n",
    "=\n",
    "\\begin{bmatrix}\n",
    "R_{0} \\\\\n",
    "R_{1}\n",
    "\\end{bmatrix}\n",
    "= \n",
    "\\begin{bmatrix}\n",
    "M_{0} + M_{1} + M_{2} \\\\\n",
    "M_{1} - M_{2} - M_{3}\n",
    "\\end{bmatrix} \n",
    "\\end{equation}"
   ]
  },
  {
   "cell_type": "markdown",
   "metadata": {},
   "source": [
    "\\begin{equation}\n",
    "M_{0} = (K_{0} - K_{2}) W_{0}\n",
    "\\end{equation}\n",
    "\n",
    "\\begin{equation}\n",
    "M_{1} = (K_{1} + K_{2}) \\dfrac{W_{0} + W_{1} + W_{2}}{2}\n",
    "\\end{equation}\n",
    "\n",
    "\\begin{equation}\n",
    "M_{2} = (K_{2} - K_{1}) \\dfrac{W_{0} - W_{1} + W_{2}}{2}\n",
    "\\end{equation}\n",
    "\n",
    "\\begin{equation}\n",
    "M_{3} = (K_{1} - K_{3}) W_{2}\n",
    "\\end{equation}\n"
   ]
  },
  {
   "cell_type": "markdown",
   "metadata": {},
   "source": [
    "All Ms are in 1D form, so we can expand them, just take M1 as an example to show how to expand"
   ]
  },
  {
   "cell_type": "markdown",
   "metadata": {},
   "source": [
    "\\begin{equation}\n",
    "M_{1} = (K_{1} + K_{2}) \\dfrac{W_{0} + W_{1} + W_{2}}{2}\n",
    "= ((K_{1}+K_{2})\\dfrac{W_{0}}{2} + (K_{1}+K_{2})\\dfrac{W_{1}}{2} + (K_{1}+K_{2})\\dfrac{W_{2}}{2})\n",
    "\\end{equation}\n",
    "\\begin{equation}\n",
    "= A^T(G\\dfrac{W_{0}}{2} \\odot B^T(D_{1} + D_{2}) + G\\dfrac{W_{1}}{2} \\odot B^T(D_{1} + D_{2}) + G\\dfrac{W_{2}}{2} \\odot B^T(D_{1} + D_{2}))\n",
    "\\end{equation}\n",
    "\\begin{equation}\n",
    "= A^T(G\\dfrac{W_{0}+W_{1}+W_{2}}{2} \\odot B^T(D_{1} + D_{2}))\n",
    "\\end{equation}"
   ]
  },
  {
   "cell_type": "markdown",
   "metadata": {},
   "source": [
    "Expand them all, we get\n",
    "\\begin{equation}\n",
    "M_{0} = A^T(GW_{0} \\odot B^T(D_{0} - D_{2}))\n",
    "\\end{equation}\n",
    "\\begin{equation}\n",
    "M_{1} = A^T(G\\dfrac{W_{0}+W_{1}+W_{2}}{2} \\odot B^T(D_{1} + D_{2}))\n",
    "\\end{equation}\n",
    "\\begin{equation}\n",
    "M_{2} = A^T(G\\dfrac{W_{0}-W_{1}+W_{2}}{2} \\odot B^T(D_{2} - D_{1}))\n",
    "\\end{equation}\n",
    "\\begin{equation}\n",
    "M_{3} = A^T(GW_{2} \\odot B^T(D_{1} - D_{3}))\n",
    "\\end{equation}\n"
   ]
  },
  {
   "cell_type": "markdown",
   "metadata": {},
   "source": [
    "Finally, \n",
    "\\begin{equation}\n",
    "R=\n",
    "\\begin{bmatrix}\n",
    "R_{0},R_{1}\n",
    "\\end{bmatrix}\n",
    "=\n",
    "\\begin{bmatrix}\n",
    "M_{0}+M_{1}+M_{2}, M_{1} - M_{2} - M_{3}\n",
    "\\end{bmatrix}\n",
    "=\n",
    "\\begin{bmatrix}\n",
    "M_{0},M_{1},M_{2},M_{3}\n",
    "\\end{bmatrix}\n",
    "\\begin{bmatrix}\n",
    "1 & 0 \\\\\n",
    "1 & 1 \\\\\n",
    "1 & -1 \\\\\n",
    "0 & -1\n",
    "\\end{bmatrix}\n",
    "= \\begin{bmatrix}\n",
    "M_{0},M_{1},M_{2},M_{3}\n",
    "\\end{bmatrix} A\n",
    "\\end{equation}\n",
    "\n",
    "\\begin{equation}\n",
    "=\n",
    "\\begin{bmatrix}\n",
    "A^T(GW_{0} \\odot B^T(D_{0} - D_{2})),A^T(G\\dfrac{W_{0}+W_{1}+W_{2}}{2} \\odot B^T(D_{1} + D_{2})),A^T(G\\dfrac{W_{0}-W_{1}+W_{2}}{2} \\odot B^T(D_{2} - D_{1})),A^T(GW_{2} \\odot B^T(D_{1} - D_{3}))\n",
    "\\end{bmatrix}A\n",
    "\\end{equation}\n",
    "\n",
    "\\begin{equation}\n",
    "=\n",
    "A^T\n",
    "\\begin{bmatrix}\n",
    "(GW_{0} \\odot B^T(D_{0} - D_{2})),(G\\dfrac{W_{0}+W_{1}+W_{2}}{2} \\odot B^T(D_{1} + D_{2})),(G\\dfrac{W_{0}-W_{1}+W_{2}}{2} \\odot B^T(D_{2} - D_{1})),(GW_{2} \\odot B^T(D_{1} - D_{3}))\n",
    "\\end{bmatrix}A\n",
    "\\end{equation}\n",
    "\n",
    "\\begin{equation}\n",
    "=\n",
    "A^T(\n",
    "\\begin{bmatrix}\n",
    "GW_{0},G\\dfrac{W_{0}+W_{1}+W_{2}}{2},G\\dfrac{W_{0}-W_{1}+W_{2}}{2},GW_{2}\n",
    "\\end{bmatrix}\n",
    "\\odot\n",
    "\\begin{bmatrix}\n",
    "B^T(D_{0}-D{2}),B^T(D_{1}+D_{2}),B^T(D_{2}-D{1}),B^T(D_{1}-D_{3})\n",
    "\\end{bmatrix})A\n",
    "\\end{equation}\n",
    "\n",
    "\\begin{equation}\n",
    "=\n",
    "A^T(\n",
    "G\\begin{bmatrix}\n",
    "W_{0},\\dfrac{W_{0}+W_{1}+W_{2}}{2},\\dfrac{W_{0}-W_{1}+W_{2}}{2},W_{2}\n",
    "\\end{bmatrix}\n",
    "\\odot\n",
    "B^T\\begin{bmatrix}\n",
    "D_{0}-D{2},D_{1}+D_{2},D_{2}-D{1},D_{1}-D_{3}\n",
    "\\end{bmatrix})A\n",
    "\\end{equation}\n",
    "\n",
    "\\begin{equation}\n",
    "=A^T(G\\begin{bmatrix}\n",
    "W_{0},W_{1},W_{2}\n",
    "\\end{bmatrix}\n",
    "\\begin{bmatrix}\n",
    "1 && \\dfrac{1}{2} && \\dfrac{1}{2} && 0 \\\\\n",
    "0 && \\dfrac{1}{2} && -\\dfrac{1}{2} && 0 \\\\\n",
    "0 && \\dfrac{1}{2} && \\dfrac{1}{2} && 1 \\\\\n",
    "\\end{bmatrix}\n",
    "\\odot\n",
    "B^T\n",
    "\\begin{bmatrix}\n",
    "D_{0},D_{1},D_{2},D_{3}\n",
    "\\end{bmatrix}\n",
    "\\begin{bmatrix}\n",
    "1 && 0 && 0 && 0 \\\\\n",
    "0 && 1 && -1 && 1 \\\\\n",
    "-1 && 1 && 1 && 0 \\\\\n",
    "0 && 0 && 0 && -1 \\\\\n",
    "\\end{bmatrix}\n",
    ")A\n",
    "\\end{equation}\n",
    "\n",
    "\\begin{equation}\n",
    "=A^T ((GWG^T) \\odot (B^TDB))A\n",
    "\\end{equation}\n"
   ]
  },
  {
   "cell_type": "code",
   "execution_count": null,
   "metadata": {},
   "outputs": [],
   "source": []
  }
 ],
 "metadata": {
  "kernelspec": {
   "display_name": "Python 3",
   "language": "python",
   "name": "python3"
  },
  "language_info": {
   "codemirror_mode": {
    "name": "ipython",
    "version": 3
   },
   "file_extension": ".py",
   "mimetype": "text/x-python",
   "name": "python",
   "nbconvert_exporter": "python",
   "pygments_lexer": "ipython3",
   "version": "3.7.3"
  }
 },
 "nbformat": 4,
 "nbformat_minor": 2
}
